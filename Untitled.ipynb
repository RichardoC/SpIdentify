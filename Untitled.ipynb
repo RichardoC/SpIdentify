{
 "cells": [
  {
   "cell_type": "code",
   "execution_count": 9,
   "metadata": {
    "collapsed": false
   },
   "outputs": [
    {
     "ename": "ImportError",
     "evalue": "No module named MLPClassifier",
     "output_type": "error",
     "traceback": [
      "\u001b[1;31m---------------------------------------------------------------------------\u001b[0m",
      "\u001b[1;31mImportError\u001b[0m                               Traceback (most recent call last)",
      "\u001b[1;32m<ipython-input-9-3bbe80909e26>\u001b[0m in \u001b[0;36m<module>\u001b[1;34m()\u001b[0m\n\u001b[0;32m      5\u001b[0m \u001b[1;32mimport\u001b[0m \u001b[0mscipy\u001b[0m\u001b[1;33m\u001b[0m\u001b[0m\n\u001b[0;32m      6\u001b[0m \u001b[1;32mfrom\u001b[0m \u001b[0mPIL\u001b[0m \u001b[1;32mimport\u001b[0m \u001b[0mImage\u001b[0m\u001b[1;33m\u001b[0m\u001b[0m\n\u001b[1;32m----> 7\u001b[1;33m \u001b[1;32mimport\u001b[0m \u001b[0msklearn\u001b[0m\u001b[1;33m.\u001b[0m\u001b[0mneural_network\u001b[0m\u001b[1;33m.\u001b[0m\u001b[0mMLPClassifier\u001b[0m\u001b[1;33m\u001b[0m\u001b[0m\n\u001b[0m\u001b[0;32m      8\u001b[0m \u001b[1;33m\u001b[0m\u001b[0m\n\u001b[0;32m      9\u001b[0m \u001b[0mspiders\u001b[0m \u001b[1;33m=\u001b[0m \u001b[0mglob\u001b[0m\u001b[1;33m.\u001b[0m\u001b[0mglob\u001b[0m\u001b[1;33m(\u001b[0m\u001b[1;34m'./Spider/*'\u001b[0m\u001b[1;33m)\u001b[0m\u001b[1;33m\u001b[0m\u001b[0m\n",
      "\u001b[1;31mImportError\u001b[0m: No module named MLPClassifier"
     ]
    }
   ],
   "source": [
    "import sklearn as sk\n",
    "import glob\n",
    "import numpy as np\n",
    "import matplotlib.pyplot as plt\n",
    "import scipy\n",
    "from PIL import Image\n",
    "import sklearn.neural_network.MLPClassifier\n",
    "\n",
    "spiders = glob.glob('./Spider/*')\n",
    "non_spiders = glob.glob('./NonSpider/*')\n",
    "\n",
    "SPimg = []\n",
    "for sp in spiders:\n",
    "    img = Image.open(sp)\n",
    "    resized = scipy. misc.imresize(img,[100,100])\n",
    "    SPimg.append(resized)\n",
    "\n",
    "NSPimg = []\n",
    "for sp in non_spiders:\n",
    "    img = Image.open(sp)\n",
    "    resized = scipy.misc.imresize(img,[100,100])\n",
    "    NSPimg.append(resized)\n",
    "\n",
    "testSize = int(0.75*len(SPimg)) + int(0.75*len(NSPimg))\n",
    "trainSpid = int(0.75*len(SPimg))\n",
    "trainNSpid = int(0.75*len(NSPimg))\n",
    "checkSpid = int(0.25*len(SPimg))\n",
    "checkNSpid = int(0.25*len(NSPimg))\n",
    "testLabs = np.zeros(testSize)\n",
    "\n",
    "testImgs = SPimg[0:trainSpid]\n",
    "for i in range(0,trainSpid):\n",
    "    testLabs[i] = 1\n",
    "# testLabs = np.ones(int(0.75*len(SPimg)))\n",
    "\n",
    "testImgs[trainSpid:testSize-1] = SPimg[0:trainNSpid]\n",
    "# toAloc = -1*np.ones(trainNSpid)\n",
    "\n",
    "for i in range(trainSpid,testSize):\n",
    "    testLabs[i] = -1\n",
    "\n",
    "testImgsA = np.array(testImgs)\n",
    "TwoDim_dataset = testImgsA.reshape(testSize,-1)\n",
    "\n",
    "#Now for a single layer perceptron with 3 nodes in the hidden layer\n",
    "SLPClass = MLPClassifier(hidden_layer_sizes=(1,))\n",
    "SLPClass.fit(TwoDim_dataset,testLabs)\n",
    "\n",
    "print SLPClass.loss_\n",
    "testSP = SPimg[215:230]\n",
    "testSPA = np.array(testSP,ndmin=4) #.tolist()\n",
    "# testSP = np.array(testSP)\n",
    "TwoDtestSP = testSPA.reshape(15,-1)\n",
    "# TwoDtestSP = TwoDtestSP.reshape(int(0.75*len(SPimg)),-1)\n",
    "# testSPLabs = np.ones(np.shape(TwoDtestSP)[0])\n",
    "checkSpidOnes = np.ones(15)\n",
    "testSLPSPScore = SLPClass.score(TwoDtestSP,checkSpidOnes)\n",
    "# testSLPSPScore = SLPClass.score(TwoDim_dataset,testLabs)\n",
    "print \"Testing the SLP on spiders \" , testSLPSPScore\n",
    "#\n",
    "testNSP = NSPimg[10:20]\n",
    "TwoDtestNSP = np.array(testNSP).reshape(20,-1)\n",
    "#\n",
    "testNSLPSPScore = SLPClass.score(testNSP,np.ones(20))\n",
    "print \"Testing the SLP on non-spiders \" , testNSLPSPScore"
   ]
  },
  {
   "cell_type": "code",
   "execution_count": null,
   "metadata": {
    "collapsed": true
   },
   "outputs": [],
   "source": []
  }
 ],
 "metadata": {
  "kernelspec": {
   "display_name": "Python 2",
   "language": "python",
   "name": "python2"
  },
  "language_info": {
   "codemirror_mode": {
    "name": "ipython",
    "version": 2
   },
   "file_extension": ".py",
   "mimetype": "text/x-python",
   "name": "python",
   "nbconvert_exporter": "python",
   "pygments_lexer": "ipython2",
   "version": "2.7.11"
  }
 },
 "nbformat": 4,
 "nbformat_minor": 0
}
