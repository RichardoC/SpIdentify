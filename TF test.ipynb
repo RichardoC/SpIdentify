{
 "cells": [
  {
   "cell_type": "code",
   "execution_count": 2,
   "metadata": {
    "collapsed": true
   },
   "outputs": [],
   "source": [
    "import tensorflow as tf\n",
    "import numpy as np\n",
    "\n"
   ]
  },
  {
   "cell_type": "code",
   "execution_count": null,
   "metadata": {
    "collapsed": true
   },
   "outputs": [],
   "source": [
    "# step 1\n",
    "filenames = ['im_01.jpg', 'im_02.jpg', 'im_03.jpg', 'im_04.jpg']\n",
    "\n",
    "# step 2\n",
    "filename_queue = tf.train.string_input_producer(filenames)\n",
    "\n",
    "# step 3: read, decode and resize images\n",
    "reader = tf.WholeFileReader()\n",
    "filename, content = reader.read(filename_queue)\n",
    "image = tf.image.decode_jpeg(content, channels=3)\n",
    "image = tf.cast(image, tf.float32)\n",
    "resized_image = tf.image.resize_images(images, 224, 224)\n",
    "\n",
    "# step 4: Batching\n",
    "image_batch = tf.train.batch([resized_image], batch_size=8)"
   ]
  }
 ],
 "metadata": {
  "kernelspec": {
   "display_name": "Python 2",
   "language": "python",
   "name": "python2"
  },
  "language_info": {
   "codemirror_mode": {
    "name": "ipython",
    "version": 2
   },
   "file_extension": ".py",
   "mimetype": "text/x-python",
   "name": "python",
   "nbconvert_exporter": "python",
   "pygments_lexer": "ipython2",
   "version": "2.7.12"
  }
 },
 "nbformat": 4,
 "nbformat_minor": 1
}
